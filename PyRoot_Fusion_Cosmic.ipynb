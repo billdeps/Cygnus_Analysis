{
 "cells": [
  {
   "cell_type": "markdown",
   "metadata": {},
   "source": [
    "## Loading ROOT libraries"
   ]
  },
  {
   "cell_type": "code",
   "execution_count": 1,
   "metadata": {},
   "outputs": [
    {
     "name": "stdout",
     "output_type": "stream",
     "text": [
      "Welcome to JupyROOT 6.24/06\n"
     ]
    }
   ],
   "source": [
    "import root_numpy\n",
    "import ROOT\n",
    "import numpy as np\n",
    "import matplotlib.pyplot as plt\n",
    "from ROOT import TCanvas, TPad, TFile, TPaveLabel, TPaveText\n",
    "from ROOT import gROOT\n",
    "from matplotlib.ticker import (LinearLocator, MultipleLocator, FormatStrFormatter,AutoMinorLocator)\n",
    "%jsroot on"
   ]
  },
  {
   "cell_type": "code",
   "execution_count": 2,
   "metadata": {},
   "outputs": [],
   "source": [
    "def getErrors(p1, p2, p1e, p2e):\n",
    "  #Mean\n",
    "  mean1  = p1*p2\n",
    "  mean2  = p2-mean1\n",
    "  mean   = mean2/p1\n",
    "  #Sig\n",
    "  sig1   = p1*p2\n",
    "  sig2   = p2-sig1\n",
    "  sig3   = p1**2\n",
    "  sig4   = sig2/sig3\n",
    "  sig    = np.sqrt(sig4)\n",
    "  #Mean Error\n",
    "  meanE1 = np.sqrt((p1e/p1)**2 + (p2e/p2)**2)*p1*p2\n",
    "  meanE2 = np.sqrt((meanE1)**2 + (p2e)**2)\n",
    "  meanE  = np.sqrt((meanE2/sig2)**2 + (p1e/p1)**2)*mean\n",
    "  #Sig Error\n",
    "  sigE2  = meanE2\n",
    "  sigE3  = np.sqrt((p1e/p1)**2 + (p1e/p1)**2)*sig3\n",
    "  sigE4  = np.sqrt((sigE2/sig2)**2 + (sigE3/sig3)**2)*sig4\n",
    "  sigE   = ((sigE4/sig4)/2)*sig\n",
    "\n",
    "  return mean, meanE, sig, sigE"
   ]
  },
  {
   "cell_type": "code",
   "execution_count": 34,
   "metadata": {},
   "outputs": [],
   "source": [
    "keVs     = ['6', '5', '4', '3', '2', '1', '0.5', '0.3']\n",
    "filename = 'cosmics/orca_fusion/reco_run06298_3D.root'\n",
    "keV      = keVs[0]\n",
    "posin    = 29\n",
    "posout   = 33\n",
    "sensor   = 'Orca Fusion BT'\n",
    "tf       = ROOT.TFile(filename)\n",
    "tree     = tf.Get('Events')\n",
    "var      = 'sc_integral'\n",
    "hist1    = 'Integral'\n",
    "ROOT.gStyle.SetOptStat(0)\n",
    "c        = ROOT.TCanvas('', '', 800, 600)\n",
    "h        = ROOT.TH1F('{hist1}'.format(hist1=hist1), '', 4000, -1000, 20000)\n",
    "tree.Draw('{vr}>>{hist1}'.format(vr=var,hist1=hist1), 'sc_nhits > 30')\n",
    "h.SetMarkerStyle(20)\n",
    "h.SetMarkerSize(0.5)\n",
    "h.SetMarkerColor(ROOT.kGray)\n",
    "h.SetFillColor(ROOT.kGray)\n",
    "h.SetLineColor(ROOT.kGray + 2)\n",
    "h.Rebin(10)\n",
    "h.Rebin(4)\n",
    "h.Draw('hist')\n",
    "ROOT.gPad.Update()\n",
    "title    = '#font[22]{#font[12]{' + sensor + '}}' + ' - #font[12]{' + filename[posin:posout] + ': ' + keV + ' keV}'\n",
    "h.SetTitle('{etitle}'.format(etitle=title))\n",
    "h.GetXaxis().SetTitle('#font[12]{Cluster Light [ADC Count]}')\n",
    "h.GetYaxis().SetTitle('#font[12]{Number of Clusters}')\n",
    "c.SetGrid()\n",
    "c.Draw()\n",
    "c.Modified()\n",
    "c.Update()"
   ]
  },
  {
   "cell_type": "code",
   "execution_count": 35,
   "metadata": {},
   "outputs": [],
   "source": []
  },
  {
   "cell_type": "code",
   "execution_count": null,
   "metadata": {},
   "outputs": [],
   "source": []
  }
 ],
 "metadata": {
  "kernelspec": {
   "display_name": "Python 3",
   "language": "python",
   "name": "python3"
  },
  "language_info": {
   "codemirror_mode": {
    "name": "ipython",
    "version": 3
   },
   "file_extension": ".py",
   "mimetype": "text/x-python",
   "name": "python",
   "nbconvert_exporter": "python",
   "pygments_lexer": "ipython3",
   "version": "3.9.9"
  }
 },
 "nbformat": 4,
 "nbformat_minor": 4
}
